{
 "cells": [
  {
   "cell_type": "code",
   "execution_count": 3,
   "metadata": {},
   "outputs": [],
   "source": [
    "from utils import extract\n",
    "from ned import ned"
   ]
  },
  {
   "cell_type": "code",
   "execution_count": 2,
   "metadata": {},
   "outputs": [],
   "source": [
    "paragraph = \"前「香港眾志」成員周庭8月10日被港警以涉嫌違反港區國安法逮捕，後獲准保釋。周庭獲釋後昨天首度向警方報到，她表示，港警指香港眾志去年在日經新聞刊廣告，涉違反國安法。\""
   ]
  },
  {
   "cell_type": "code",
   "execution_count": 1,
   "metadata": {},
   "outputs": [],
   "source": []
  },
  {
   "cell_type": "markdown",
   "metadata": {},
   "source": [
    "## 摘要\n",
    "\n",
    "* 產生候選片語\n",
    "* ckip + 實體名詞辨識\n",
    "* ngram + 實體名詞辨識\n",
    "* 聯結次數"
   ]
  },
  {
   "cell_type": "markdown",
   "metadata": {},
   "source": [
    "### 透過維基百科產生候選片語\n",
    "\n",
    "* 無歧異詞語\n",
    "* 有歧異詞語，常見用法只有一種。\n",
    "* 有歧異詞語，無法辨識。"
   ]
  },
  {
   "cell_type": "code",
   "execution_count": 8,
   "metadata": {},
   "outputs": [],
   "source": [
    "\n",
    "\n",
    "def convert(obj):\n",
    "    if isinstance(obj, dict):\n",
    "        return {ned._id2title(key): value for key, value in obj.items()}\n",
    "    elif isinstance(obj, dict):\n",
    "        return [ned._id2title(key) for key in obj]\n",
    "    elif isinstance(obj, int):\n",
    "        return ned._id2title(obj)\n",
    "\n",
    "def simple_coverter(data):\n",
    "    \n",
    "    return {key: convert(value) for key, value in data.items()}\n"
   ]
  },
  {
   "cell_type": "code",
   "execution_count": 14,
   "metadata": {},
   "outputs": [],
   "source": [
    "print(simple_coverter(ned.gen_NE_candidates(\"牛奶針\")))"
   ]
  },
  {
   "cell_type": "code",
   "execution_count": 1,
   "metadata": {},
   "outputs": [
    {
     "ename": "NameError",
     "evalue": "name 'ned' is not defined",
     "output_type": "error",
     "traceback": [
      "\u001b[0;31m---------------------------------------------------------------------------\u001b[0m",
      "\u001b[0;31mNameError\u001b[0m                                 Traceback (most recent call last)",
      "\u001b[0;32m<ipython-input-1-cde494532c5d>\u001b[0m in \u001b[0;36m<module>\u001b[0;34m\u001b[0m\n\u001b[0;32m----> 1\u001b[0;31m \u001b[0mned\u001b[0m\u001b[0;34m.\u001b[0m\u001b[0mgen_NE_candidates\u001b[0m\u001b[0;34m(\u001b[0m\u001b[0;34m\"牛奶針\"\u001b[0m\u001b[0;34m)\u001b[0m\u001b[0;34m\u001b[0m\u001b[0;34m\u001b[0m\u001b[0m\n\u001b[0m",
      "\u001b[0;31mNameError\u001b[0m: name 'ned' is not defined"
     ]
    }
   ],
   "source": []
  },
  {
   "cell_type": "markdown",
   "metadata": {},
   "source": [
    "### 無歧異詞語\n",
    "\n",
    "* 牛奶針 -> 异丙酚"
   ]
  },
  {
   "cell_type": "code",
   "execution_count": 11,
   "metadata": {},
   "outputs": [
    {
     "name": "stdout",
     "output_type": "stream",
     "text": [
      "{'title': '', 'redirect': '', 'bold': None, 'anchor': {'陳時中 (政治人物)': 10}}\n"
     ]
    }
   ],
   "source": [
    "print(simple_coverter(ned.gen_NE_candidates(\"陳時中\")))"
   ]
  },
  {
   "cell_type": "markdown",
   "metadata": {},
   "source": [
    "### 有歧異詞語，但常見用法只有一種。\n",
    "\n",
    "* 陳時中 -> 陳時中 (政治人物)"
   ]
  },
  {
   "cell_type": "code",
   "execution_count": 15,
   "metadata": {},
   "outputs": [
    {
     "name": "stdout",
     "output_type": "stream",
     "text": [
      "{'title': '', 'redirect': '', 'bold': None, 'anchor': {'柯瑞·巴斯特': 1}}\n"
     ]
    }
   ],
   "source": [
    "print(simple_coverter(ned.gen_NE_candidates(\"柯瑞\")))"
   ]
  },
  {
   "cell_type": "markdown",
   "metadata": {},
   "source": [
    "### 有歧異詞語，無法確認是誰\n",
    "\n",
    "* 柯瑞 -> ???"
   ]
  },
  {
   "cell_type": "markdown",
   "metadata": {},
   "source": [
    "#### 聯合報 2019術語\n",
    "\n",
    "* 約3成可以在維基百科找到\n",
    "* 醫療 金融 保險用語居多"
   ]
  },
  {
   "cell_type": "code",
   "execution_count": 18,
   "metadata": {},
   "outputs": [
    {
     "name": "stdout",
     "output_type": "stream",
     "text": [
      "負所得稅制\t\t\n",
      "屏下指紋辨識\t\t\n",
      "換匯交易\t\t\n",
      "城市貨幣\t\t\n",
      "備轉容量率\t\t\n",
      "心室頻脈\t\t\n",
      "稅收超徵\t\t\n",
      "歲計賸餘\t\t\n",
      "北斗衛星系統\t\t\n",
      "OBU\tOBU\thttps://zh.wikipedia.org/wiki/OBU\n",
      "DBU\t1,8-二氮杂二环［5.4.0］十一碳-7-烯\thttps://zh.wikipedia.org/wiki/1,8-%E4%BA%8C%E6%B0%AE%E6%9D%82%E4%BA%8C%E7%8E%AF%EF%BC%BB5.4.0%EF%BC%BD%E5%8D%81%E4%B8%80%E7%A2%B3-7-%E7%83%AF\n",
      "髖部骨折\t髖部骨折\thttps://zh.wikipedia.org/wiki/%E9%AB%96%E9%83%A8%E9%AA%A8%E6%8A%98\n",
      "閨密節\t\t\n",
      "急性膽囊炎\t\t\n",
      "修昔底德陷阱\t修昔底德陷阱\thttps://zh.wikipedia.org/wiki/%E4%BF%AE%E6%98%94%E5%BA%95%E5%BE%B7%E9%99%B7%E9%98%B1\n",
      "O-RAN聯盟\t\t\n",
      "Thunderbolt\tThunderbolt\thttps://zh.wikipedia.org/wiki/Thunderbolt\n",
      "GDPR\t歐盟一般資料保護規範\thttps://zh.wikipedia.org/wiki/%E6%AD%90%E7%9B%9F%E4%B8%80%E8%88%AC%E8%B3%87%E6%96%99%E4%BF%9D%E8%AD%B7%E8%A6%8F%E7%AF%84\n",
      "腰椎椎間盤突出\t\t\n",
      "錐體外症候群\t錐體外症候群\thttps://zh.wikipedia.org/wiki/%E9%8C%90%E9%AB%94%E5%A4%96%E7%97%87%E5%80%99%E7%BE%A4\n",
      "胃食道逆流\t胃食道逆流\thttps://zh.wikipedia.org/wiki/%E8%83%83%E9%A3%9F%E9%81%93%E9%80%86%E6%B5%81\n",
      "颮線\t飑线\thttps://zh.wikipedia.org/wiki/%E9%A3%91%E7%BA%BF\n",
      "外溢保單\t\t\n",
      "紅籌架構\t\t\n",
      "類載板\t\t\n",
      "邊緣運算\t邊緣運算\thttps://zh.wikipedia.org/wiki/%E9%82%8A%E7%B7%A3%E9%81%8B%E7%AE%97\n",
      "Micro LED\t\t\n",
      "格里森分數\t\t\n",
      "甲溝炎\t甲溝炎\thttps://zh.wikipedia.org/wiki/%E7%94%B2%E6%BA%9D%E7%82%8E\n",
      "雙極電外科器械\t\t\n",
      "二類電信\t\t\n",
      "禁搭便車條款\t\t\n",
      "肺腺癌\t肺腺癌\thttps://zh.wikipedia.org/wiki/%E8%82%BA%E8%85%BA%E7%99%8C\n",
      "修昔底德陷阱\t修昔底德陷阱\thttps://zh.wikipedia.org/wiki/%E4%BF%AE%E6%98%94%E5%BA%95%E5%BE%B7%E9%99%B7%E9%98%B1\n",
      "石油腦\t石腦油\thttps://zh.wikipedia.org/wiki/%E7%9F%B3%E8%85%A6%E6%B2%B9\n",
      "CFC課稅制度\t\t\n",
      "ABF載板\t\t\n",
      "掩星技術\t\t\n",
      "光阻劑\t光刻胶\thttps://zh.wikipedia.org/wiki/%E5%85%89%E5%88%BB%E8%83%B6\n",
      "PI\tPI\thttps://zh.wikipedia.org/wiki/PI\n"
     ]
    }
   ],
   "source": [
    "! head -n 40 2019_udn_in_wiki.tsv"
   ]
  },
  {
   "cell_type": "markdown",
   "metadata": {},
   "source": [
    "### ckip + 實體名詞辨識"
   ]
  },
  {
   "cell_type": "code",
   "execution_count": 19,
   "metadata": {},
   "outputs": [],
   "source": [
    "from ner import ckip_ner"
   ]
  },
  {
   "cell_type": "code",
   "execution_count": 22,
   "metadata": {},
   "outputs": [
    {
     "name": "stdout",
     "output_type": "stream",
     "text": [
      "前「香港眾志」成員周庭8月10日被港警以涉嫌違反港區國安法逮捕，後獲准保釋。周庭獲釋後昨天首度向警方報到，她表示，港警指香港眾志去年在日經新聞刊廣告，涉違反國安法。\n",
      "[(2, 6, 'ORG', '香港眾志'), (9, 11, 'PERSON', '周庭'), (38, 40, 'PERSON', '周庭'), (57, 58, 'GPE', '港'), (62, 64, 'PERSON', '眾志'), (67, 71, 'WORK_OF_ART', '日經新聞'), (78, 81, 'LAW', '國安法')]\n"
     ]
    }
   ],
   "source": [
    "print(paragraph)\n",
    "\n",
    "print(ckip_ner.gen_ner(paragraph))"
   ]
  },
  {
   "cell_type": "code",
   "execution_count": 26,
   "metadata": {},
   "outputs": [
    {
     "name": "stdout",
     "output_type": "stream",
     "text": [
      "香港眾志 -> 香港眾志\n",
      "周庭 -> 周庭\n",
      "周庭 -> 周庭\n",
      "港 -> 香港\n",
      "眾志 -> 香港眾志\n",
      "日經新聞 -> 日本經濟新聞\n",
      "國安法 -> \n"
     ]
    }
   ],
   "source": [
    "for start, end, _type, text in ckip_ner.gen_ner(paragraph):\n",
    "    wiki_title = ned.disambiguate_NE(text)\n",
    "    print(text, \"->\", wiki_title)"
   ]
  },
  {
   "cell_type": "markdown",
   "metadata": {},
   "source": [
    "### bigram~five gram + 實體名詞辨識"
   ]
  },
  {
   "cell_type": "code",
   "execution_count": 28,
   "metadata": {},
   "outputs": [],
   "source": [
    "from utils import extract"
   ]
  },
  {
   "cell_type": "code",
   "execution_count": 35,
   "metadata": {},
   "outputs": [
    {
     "name": "stdout",
     "output_type": "stream",
     "text": [
      "前「香港眾志」成員周庭8月10日被港警以涉嫌違反港區國安法逮捕，後獲准保釋。周庭獲釋後昨天首度向警方報到，她表示，港警指香港眾志去年在日經新聞刊廣告，涉違反國安法。\n",
      "2 香港眾志 -> 香港眾志\n",
      "9 周庭 -> 周庭\n",
      "11 8月10日 -> 8月10日\n",
      "17 港警 -> 香港警務處\n",
      "20 涉嫌 -> 犯罪嫌疑人\n",
      "24 港區國安法 -> 中華人民共和國香港特別行政區維護國家安全法\n",
      "29 逮捕 -> 逮捕\n",
      "35 保釋 -> 保釋\n",
      "38 周庭 -> 周庭\n",
      "43 昨天 -> 昨天\n",
      "48 警方 -> 警隊\n",
      "54 表示 -> 群表示論\n",
      "57 港警 -> 香港警務處\n",
      "60 香港眾志 -> 香港眾志\n",
      "67 日經新聞 -> 日本經濟新聞\n",
      "72 廣告 -> 廣告\n"
     ]
    }
   ],
   "source": [
    "res = []\n",
    "for idx, text in extract.split_string(paragraph):\n",
    "    for start, end in extract.gen_ngram(text):\n",
    "        \n",
    "        wiki_title = ned.disambiguate_NE(text[start:end])\n",
    "        if wiki_title:\n",
    "            res.append((idx+start ,text[start: end], wiki_title))\n",
    "res = extract.merge_span(res)\n",
    "print(paragraph)\n",
    "\n",
    "for start, text, wiki_title in res:\n",
    "    print(start, text, \"->\", wiki_title)"
   ]
  },
  {
   "cell_type": "markdown",
   "metadata": {},
   "source": [
    "### 聯結次數 (可當作重要性過濾)"
   ]
  },
  {
   "cell_type": "code",
   "execution_count": 36,
   "metadata": {},
   "outputs": [],
   "source": [
    "wiki_titles = {title for _, _, title in res}"
   ]
  },
  {
   "cell_type": "code",
   "execution_count": 37,
   "metadata": {},
   "outputs": [
    {
     "name": "stdout",
     "output_type": "stream",
     "text": [
      "{'香港眾志', '犯罪嫌疑人', '昨天', '群表示論', '日本經濟新聞', '警隊', '8月10日', '中華人民共和國香港特別行政區維護國家安全法', '周庭', '保釋', '香港警務處', '逮捕', '廣告'}\n"
     ]
    }
   ],
   "source": [
    "print(wiki_titles)"
   ]
  },
  {
   "cell_type": "code",
   "execution_count": 45,
   "metadata": {},
   "outputs": [],
   "source": [
    "from collections import Counter\n",
    "title_count = Counter()\n",
    "\n",
    "for anchor_count in ned.load_anchor.ANCHOR_TABLE.anchor2count.values():\n",
    "    for title, count in anchor_count.items():\n",
    "        title_count[ned._id2title(title)] += count"
   ]
  },
  {
   "cell_type": "code",
   "execution_count": 46,
   "metadata": {},
   "outputs": [
    {
     "name": "stdout",
     "output_type": "stream",
     "text": [
      "香港眾志 -> 121\n",
      "犯罪嫌疑人 -> 171\n",
      "昨天 -> 4\n",
      "群表示論 -> 85\n",
      "日本經濟新聞 -> 92\n",
      "警隊 -> 129\n",
      "8月10日 -> 10\n",
      "中華人民共和國香港特別行政區維護國家安全法 -> 77\n",
      "周庭 -> 35\n",
      "保釋 -> 150\n",
      "香港警務處 -> 1291\n",
      "逮捕 -> 334\n",
      "廣告 -> 1244\n"
     ]
    }
   ],
   "source": [
    "title_record = []\n",
    "for title in wiki_titles:\n",
    "    title_record.append((title, title_count[title]))\n",
    "    print(title, \"->\", title_count[title])"
   ]
  },
  {
   "cell_type": "code",
   "execution_count": 48,
   "metadata": {},
   "outputs": [],
   "source": [
    "title_record.sort(key=lambda x: x[1])"
   ]
  },
  {
   "cell_type": "code",
   "execution_count": 49,
   "metadata": {},
   "outputs": [
    {
     "name": "stdout",
     "output_type": "stream",
     "text": [
      "[('昨天', 4), ('8月10日', 10), ('周庭', 35), ('中華人民共和國香港特別行政區維護國家安全法', 77), ('群表示論', 85), ('日本經濟新聞', 92), ('香港眾志', 121), ('警隊', 129), ('保釋', 150), ('犯罪嫌疑人', 171), ('逮捕', 334), ('廣告', 1244), ('香港警務處', 1291)]\n"
     ]
    }
   ],
   "source": [
    "print(title_record)"
   ]
  },
  {
   "cell_type": "markdown",
   "metadata": {},
   "source": [
    "### 觀察\n",
    "\n",
    "* 時間類別次數較低，可食用ner去除(ex. 昨天, 8月10日)\n",
    "* 次數過高的往往不重要 ('香港警務處': 1291, '廣告': 1244)"
   ]
  },
  {
   "cell_type": "code",
   "execution_count": 50,
   "metadata": {},
   "outputs": [],
   "source": [
    "terms = [\"修昔底德陷阱\", \"O-RAN聯盟\", \"Thunderbolt\", \"歐盟一般資料保護規範\", \"腰椎椎間盤突出\", \"錐體外症候群\", \"胃食道逆流\"]"
   ]
  },
  {
   "cell_type": "code",
   "execution_count": 51,
   "metadata": {},
   "outputs": [
    {
     "name": "stdout",
     "output_type": "stream",
     "text": [
      "修昔底德陷阱 -> 3\n",
      "O-RAN聯盟 -> 0\n",
      "Thunderbolt -> 14\n",
      "歐盟一般資料保護規範 -> 6\n",
      "腰椎椎間盤突出 -> 0\n",
      "錐體外症候群 -> 12\n",
      "胃食道逆流 -> 35\n"
     ]
    }
   ],
   "source": [
    "for term in terms:\n",
    "    print(term, \"->\", title_count[term])"
   ]
  },
  {
   "cell_type": "markdown",
   "metadata": {},
   "source": [
    "### 觀察\n",
    "\n",
    "* 術語次數比較低\n",
    "* 可考慮計算維基百科該詞出現且被連結的次數比上該詞出現次數"
   ]
  },
  {
   "cell_type": "markdown",
   "metadata": {},
   "source": []
  }
 ],
 "metadata": {
  "kernelspec": {
   "display_name": "Python 3",
   "language": "python",
   "name": "python3"
  },
  "language_info": {
   "codemirror_mode": {
    "name": "ipython",
    "version": 3
   },
   "file_extension": ".py",
   "mimetype": "text/x-python",
   "name": "python",
   "nbconvert_exporter": "python",
   "pygments_lexer": "ipython3",
   "version": "3.7.7"
  }
 },
 "nbformat": 4,
 "nbformat_minor": 4
}
