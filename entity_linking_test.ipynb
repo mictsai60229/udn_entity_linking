{
 "cells": [
  {
   "cell_type": "code",
   "execution_count": 5,
   "metadata": {},
   "outputs": [],
   "source": [
    "from ner import ckip_ner\n",
    "from ned import ned"
   ]
  },
  {
   "cell_type": "code",
   "execution_count": 9,
   "metadata": {},
   "outputs": [],
   "source": [
    "def simple_link(title):\n",
    "    if title:\n",
    "        return \"https://zh.wikipedia.org/wiki/{}\".format(title)\n",
    "    \n",
    "    return \"No Link\"\n",
    "\n"
   ]
  },
  {
   "cell_type": "code",
   "execution_count": 7,
   "metadata": {},
   "outputs": [
    {
     "data": {
      "text/plain": [
       "[(6, 9, 'PERSON', '徐永明'), (25, 28, 'PERSON', '趙正宇')]"
      ]
     },
     "execution_count": 7,
     "metadata": {},
     "output_type": "execute_result"
    }
   ],
   "source": [
    "sentence = \"最後帶入的是徐永明，法官裁定80萬元交保。他也是繼趙正宇交保100萬元後，另一個獲得交保者。\""
   ]
  },
  {
   "cell_type": "code",
   "execution_count": 10,
   "metadata": {},
   "outputs": [
    {
     "name": "stdout",
     "output_type": "stream",
     "text": [
      "徐永明 --> https://zh.wikipedia.org/wiki/徐永明\n",
      "趙正宇 --> https://zh.wikipedia.org/wiki/趙正宇\n"
     ]
    }
   ],
   "source": [
    "for start, end, type_, text in ckip_ner.gen_ner(sentence):\n",
    "    print(text, \"-->\", simple_link(ned.disambiguate_NE(text)))"
   ]
  },
  {
   "cell_type": "code",
   "execution_count": null,
   "metadata": {},
   "outputs": [],
   "source": []
  }
 ],
 "metadata": {
  "kernelspec": {
   "display_name": "Python 3",
   "language": "python",
   "name": "python3"
  },
  "language_info": {
   "codemirror_mode": {
    "name": "ipython",
    "version": 3
   },
   "file_extension": ".py",
   "mimetype": "text/x-python",
   "name": "python",
   "nbconvert_exporter": "python",
   "pygments_lexer": "ipython3",
   "version": "3.7.7"
  }
 },
 "nbformat": 4,
 "nbformat_minor": 4
}
